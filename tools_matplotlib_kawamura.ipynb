{
 "cells": [
  {
   "cell_type": "markdown",
   "metadata": {},
   "source": [
    "**Tools - matplotlib**\n",
    "\n",
    "*This notebook demonstrates how to use the matplotlib library to plot beautiful graphs.*"
   ]
  },
  {
   "cell_type": "markdown",
   "metadata": {
    "toc": "true"
   },
   "source": [
    "##  参考：python visualization\n",
    "https://blog.modeanalytics.com/python-data-visualization-libraries/\n",
    "\n",
    "https://github.com/vinta/awesome-python\n"
   ]
  },
  {
   "cell_type": "markdown",
   "metadata": {},
   "source": [
    "## 元サイト\n",
    "https://github.com/ageron/handson-ml/blob/master/tools_matplotlib.ipynb\n"
   ]
  },
  {
   "cell_type": "markdown",
   "metadata": {},
   "source": [
    "# matplotlib歴\n",
    "+ グラフ作成は基本python\n",
    "+ 大学時代は同期の資料を作成\n",
    "+ 最近はbokehを使用\n",
    "\n",
    "## 基本使用法\n",
    "+ matplotlibのギャラリーで作りたいグラフに似たものを探す(https://matplotlib.org/gallery/index.html)\n",
    "+ そのコードをもとにして書く"
   ]
  },
  {
   "cell_type": "markdown",
   "metadata": {},
   "source": [
    "# Plotting your first graph"
   ]
  },
  {
   "cell_type": "markdown",
   "metadata": {},
   "source": [
    "First let's make sure that this notebook works well in both python 2 and 3:"
   ]
  },
  {
   "cell_type": "code",
   "execution_count": 1,
   "metadata": {},
   "outputs": [],
   "source": [
    "from __future__ import division, print_function, unicode_literals"
   ]
  },
  {
   "cell_type": "markdown",
   "metadata": {},
   "source": [
    "First we need to import the `matplotlib` library."
   ]
  },
  {
   "cell_type": "code",
   "execution_count": 5,
   "metadata": {},
   "outputs": [],
   "source": [
    "import matplotlib\n",
    "import seaborn as sns\n",
    "sns.set()"
   ]
  },
  {
   "cell_type": "markdown",
   "metadata": {},
   "source": [
    "Matplotlib can output graphs using various backend graphics libraries, such as Tk, wxPython, etc.  When running python using the command line, the graphs are typically shown in a separate window. In a Jupyter notebook, we can simply output the graphs within the notebook itself by running the `%matplotlib inline` magic command."
   ]
  },
  {
   "cell_type": "code",
   "execution_count": 3,
   "metadata": {},
   "outputs": [],
   "source": [
    "%matplotlib inline\n",
    "# matplotlib.use(\"TKAgg\")  # use this instead in your program if you want to use Tk as your graphics backend."
   ]
  },
  {
   "cell_type": "markdown",
   "metadata": {},
   "source": [
    "Now let's plot our first graph! :)"
   ]
  },
  {
   "cell_type": "code",
   "execution_count": null,
   "metadata": {},
   "outputs": [],
   "source": [
    "import matplotlib.pyplot as plt\n",
    "plt.plot([1, 2, 4, 9, 5, 3])\n",
    "plt.show()"
   ]
  },
  {
   "cell_type": "markdown",
   "metadata": {},
   "source": [
    "Yep, it's as simple as calling the `plot` function with some data, and then calling the `show` function!\n",
    "\n",
    "If the `plot` function is given one array of data, it will use it as the coordinates on the vertical axis, and it will just use each data point's index in the array as the horizontal coordinate.\n",
    "You can also provide two arrays: one for the horizontal axis `x`, and the second for the vertical axis `y`:"
   ]
  },
  {
   "cell_type": "code",
   "execution_count": null,
   "metadata": {
    "scrolled": true
   },
   "outputs": [],
   "source": [
    "plt.plot([-3, -2, 5, 0], [1, 6, 4, 3])\n",
    "plt.xlim([-4,6])\n",
    "plt.show()"
   ]
  },
  {
   "cell_type": "markdown",
   "metadata": {},
   "source": [
    "That's a bit dry, let's add a title, and x and y labels, and draw a grid."
   ]
  },
  {
   "cell_type": "code",
   "execution_count": null,
   "metadata": {},
   "outputs": [],
   "source": [
    "import numpy as np\n",
    "x = np.linspace(-2, 2, 500)\n",
    "y = x**2\n",
    "\n",
    "plt.plot(x, y)\n",
    "plt.title(\"Square function\")\n",
    "plt.xlabel(\"x\")\n",
    "plt.ylabel(\"y = x**2\")\n",
    "plt.grid(True)\n",
    "plt.show()"
   ]
  },
  {
   "cell_type": "markdown",
   "metadata": {},
   "source": [
    "# Line style and color"
   ]
  },
  {
   "cell_type": "markdown",
   "metadata": {},
   "source": [
    "By default, matplotlib draws a line between consecutive points."
   ]
  },
  {
   "cell_type": "markdown",
   "metadata": {},
   "source": [
    "The plot function returns a list of `Line2D` objects (one for each line).  You can set extra attributes on these lines, such as the line width, the dash style or the alpha level.  See the full list of attributes in [the documentation](http://matplotlib.org/users/pyplot_tutorial.html#controlling-line-properties)."
   ]
  },
  {
   "cell_type": "code",
   "execution_count": null,
   "metadata": {},
   "outputs": [],
   "source": [
    "x = np.linspace(-1.4, 1.4, 30)\n",
    "line1, line2, line3 = plt.plot(x, x, 'g--', x, x**2, 'r:', x, x**3, 'b^')\n",
    "line1.set_linewidth(3.0)\n",
    "line1.set_dash_capstyle(\"round\")\n",
    "line3.set_alpha(0.2)\n",
    "plt.show()"
   ]
  },
  {
   "cell_type": "code",
   "execution_count": null,
   "metadata": {
    "scrolled": true
   },
   "outputs": [],
   "source": [
    "x = np.linspace(-1.4, 1.4, 30)\n",
    "\n",
    "line1= plt.plot(x,x, color='hotpink',linestyle=\"--\",linewidth=3.0,dash_capstyle=\"round\")\n",
    "line2 =plt.plot(x, x**2, color='khaki',linestyle=\":\",linewidth=3.0)\n",
    "line3 =plt.plot(x, x**3, color='yellowgreen',marker=\"^\",alpha=0.5)\n",
    "plt.show()\n",
    "\"\"\"\n",
    "markeredgecolor or mec\n",
    "markeredgewidth or mew\n",
    "markerfacecolor or mfc\n",
    "markerfacecoloralt or mfcalt\n",
    "markersize or ms\n",
    "\"\"\""
   ]
  },
  {
   "cell_type": "code",
   "execution_count": null,
   "metadata": {},
   "outputs": [],
   "source": [
    "matplotlib.colors.cnames"
   ]
  },
  {
   "cell_type": "code",
   "execution_count": null,
   "metadata": {},
   "outputs": [],
   "source": [
    "# http://handasse.blogspot.com/2007/06/matplotlib_28.html\n",
    "x = np.arange(-20, 20, 0.3)\n",
    "plt.figure(figsize=(10,10))\n",
    "plt.plot(x+1, x, \"-\")\n",
    "plt.plot(x+2, x, \"--\")\n",
    "plt.plot(x+3, x, \"-.\")\n",
    "plt.plot(x+4, x, \":\")\n",
    "plt.plot(x+5, x, \".\")\n",
    "plt.plot(x+6, x, \",\")\n",
    "plt.plot(x+7, x, \"o\")\n",
    "plt.plot(x+8, x, \"^\")\n",
    "plt.plot(x+9, x, \"v\")\n",
    "plt.plot(x+10, x, \"<\")\n",
    "plt.plot(x+11, x, \">\")\n",
    "plt.plot(x+12, x, \"s\")\n",
    "plt.plot(x+13, x, \"+\")\n",
    "plt.plot(x+14, x, \"x\")\n",
    "plt.plot(x+15, x, \"D\")\n",
    "plt.plot(x+16, x, \"d\")\n",
    "plt.plot(x+17, x, \"1\")\n",
    "plt.plot(x+18, x, \"2\")\n",
    "plt.plot(x+19, x, \"3\")\n",
    "plt.plot(x+20, x, \"4\")\n",
    "plt.plot(x+21, x, \"h\")\n",
    "plt.plot(x+22, x, \"H\")\n",
    "plt.plot(x+23, x, \"p\")\n",
    "plt.plot(x+24, x, \"|\")\n",
    "plt.plot(x+25, x, \"_\")\n",
    "plt.legend([\"-\", \"--\", \"-.\", \":\", \".\", \",\", \"o\", \"^\", \"v\", \"<\", \">\", \"s\", \"+\", \"x\", \"D\", \"d\", \"1\", \"2\", \"3\", \"4\", \"h\", \"H\", \"p\", \"|\", \"_\"], numpoints=5)\n",
    "\n",
    "plt.xlim(0, 30)\n",
    "plt.ylim(-5, 5)\n",
    "\n",
    "plt.show()"
   ]
  },
  {
   "cell_type": "markdown",
   "metadata": {},
   "source": [
    "# Saving a figure\n",
    "Saving a figure to disk is as simple as calling [`savefig`](http://matplotlib.org/api/pyplot_api.html#matplotlib.pyplot.savefig) with the name of the file (or a file object). The available image formats depend on the graphics backend you use."
   ]
  },
  {
   "cell_type": "code",
   "execution_count": null,
   "metadata": {
    "scrolled": true
   },
   "outputs": [],
   "source": [
    "x = np.linspace(-1.4, 1.4, 30)\n",
    "plt.plot(x, x**2)\n",
    "# plt.savefig(\"my_square_function.png\", transparent=True)\n",
    "# plt.show()と併用すると、保存できない"
   ]
  },
  {
   "cell_type": "markdown",
   "metadata": {},
   "source": [
    "# Subplots\n",
    "A matplotlib figure may contain multiple subplots. These subplots are organized in a grid. To create a subplot, just call the `subplot` function, and specify the number of rows and columns in the figure, and the index of the subplot you want to draw on (starting from 1, then left to right, and top to bottom). Note that pyplot keeps track of the currently active subplot (which you can get a reference to by calling `plt.gca()`), so when you call the `plot` function, it draws on the *active* subplot.\n"
   ]
  },
  {
   "cell_type": "code",
   "execution_count": null,
   "metadata": {
    "scrolled": true
   },
   "outputs": [],
   "source": [
    "x = np.linspace(-1.4, 1.4, 30)\n",
    "plt.subplot(2, 2, 1)  # 2 rows, 2 columns, 1st subplot = top left\n",
    "plt.plot(x, x)\n",
    "plt.subplot(2, 2, 2)  # 2 rows, 2 columns, 2nd subplot = top right\n",
    "plt.plot(x, x**2)\n",
    "plt.subplot(2, 2, 3)  # 2 rows, 2 columns, 3rd subplot = bottow left\n",
    "plt.plot(x, x**3)\n",
    "plt.subplot(2, 2, 4)  # 2 rows, 2 columns, 4th subplot = bottom right\n",
    "plt.plot(x, x**4)\n",
    "plt.show()"
   ]
  },
  {
   "cell_type": "markdown",
   "metadata": {},
   "source": [
    "* Note that `subplot(223)` is a shorthand for `subplot(2, 2, 3)`."
   ]
  },
  {
   "cell_type": "markdown",
   "metadata": {},
   "source": [
    "It is easy to create subplots that span across multiple grid cells like so:"
   ]
  },
  {
   "cell_type": "code",
   "execution_count": null,
   "metadata": {},
   "outputs": [],
   "source": [
    "plt.subplot(2, 2, 1)  # 2 rows, 2 columns, 1st subplot = top left\n",
    "plt.plot(x, x)\n",
    "plt.subplot(2, 2, 2)  # 2 rows, 2 columns, 2nd subplot = top right\n",
    "plt.plot(x, x**2)\n",
    "plt.subplot(2, 1, 2)  # 2 rows, *1* column, 2nd subplot = bottom\n",
    "plt.plot(x, x**3)\n",
    "plt.show()"
   ]
  },
  {
   "cell_type": "markdown",
   "metadata": {},
   "source": [
    "If you need more complex subplot positionning, you can use `subplot2grid` instead of `subplot`. You specify the number of rows and columns in the grid, then your subplot's position in that grid (top-left = (0,0)), and optionally how many rows and/or columns it spans.  For example:"
   ]
  },
  {
   "cell_type": "markdown",
   "metadata": {},
   "source": [
    "If you need even more flexibility in subplot positioning, check out the [GridSpec documentation](http://matplotlib.org/users/gridspec.html)"
   ]
  },
  {
   "cell_type": "markdown",
   "metadata": {},
   "source": [
    "# Multiple figures\n",
    "It is also possible to draw multiple figures. Each figure may contain one or more subplots. By default, matplotlib creates `figure(1)` automatically. When you switch figure, pyplot keeps track of the currently active figure (which you can get a reference to by calling `plt.gcf()`), and the active subplot of that figure becomes the current subplot."
   ]
  },
  {
   "cell_type": "code",
   "execution_count": null,
   "metadata": {
    "scrolled": true
   },
   "outputs": [],
   "source": [
    "x = np.linspace(-1.4, 1.4, 30)\n",
    "\n",
    "\n",
    "plt.figure(1)\n",
    "# figure(1)がactivate\n",
    "plt.subplot(211)\n",
    "plt.plot(x, x**2)\n",
    "plt.title(\"Square and Cube\")\n",
    "plt.subplot(212)\n",
    "plt.plot(x, x**3)\n",
    "\n",
    "plt.figure(2, figsize=(10, 5))\n",
    "plt.subplot(121)\n",
    "plt.plot(x, x**4)\n",
    "plt.title(\"y = x**4\")\n",
    "plt.subplot(122)\n",
    "plt.plot(x, x**5)\n",
    "plt.title(\"y = x**5\")\n",
    "\n",
    "plt.figure(1)      # back to figure 1, current subplot is 212 (bottom)\n",
    "plt.plot(x, -x**3, \"r:\")\n",
    "\n",
    "plt.show()"
   ]
  },
  {
   "cell_type": "markdown",
   "metadata": {},
   "source": [
    "# Pyplot's state machine: implicit *vs* explicit\n",
    "So far we have used Pyplot's state machine which keeps track of the currently active subplot. Every time you call the `plot` function, pyplot just draws on the currently active subplot. It also does some more magic, such as automatically creating a figure and a subplot when you call `plot`, if they don't exist yet. This magic is convenient in an interactive environment (such as Jupyter).\n",
    "\n",
    "But when you are writing a program, *explicit is better than implicit*. Explicit code is usually easier to debug and maintain, and if you don't believe me just read the 2nd rule in the Zen of Python:"
   ]
  },
  {
   "cell_type": "code",
   "execution_count": 20,
   "metadata": {},
   "outputs": [
    {
     "name": "stdout",
     "output_type": "stream",
     "text": [
      "The Zen of Python, by Tim Peters\n",
      "\n",
      "Beautiful is better than ugly.\n",
      "Explicit is better than implicit.\n",
      "Simple is better than complex.\n",
      "Complex is better than complicated.\n",
      "Flat is better than nested.\n",
      "Sparse is better than dense.\n",
      "Readability counts.\n",
      "Special cases aren't special enough to break the rules.\n",
      "Although practicality beats purity.\n",
      "Errors should never pass silently.\n",
      "Unless explicitly silenced.\n",
      "In the face of ambiguity, refuse the temptation to guess.\n",
      "There should be one-- and preferably only one --obvious way to do it.\n",
      "Although that way may not be obvious at first unless you're Dutch.\n",
      "Now is better than never.\n",
      "Although never is often better than *right* now.\n",
      "If the implementation is hard to explain, it's a bad idea.\n",
      "If the implementation is easy to explain, it may be a good idea.\n",
      "Namespaces are one honking great idea -- let's do more of those!\n"
     ]
    }
   ],
   "source": [
    "import this"
   ]
  },
  {
   "cell_type": "markdown",
   "metadata": {},
   "source": [
    "Fortunately, Pyplot allows you to ignore the state machine entirely, so you can write beautifully explicit code. Simply call the `subplots` function and use the figure object and the list of axes objects that are returned. No more magic! For example:"
   ]
  },
  {
   "cell_type": "code",
   "execution_count": null,
   "metadata": {
    "scrolled": true
   },
   "outputs": [],
   "source": [
    "\n",
    "x = np.linspace(-2, 2, 200)\n",
    "fig1, (ax_top, ax_bottom) = plt.subplots(2, 1, sharex=True)\n",
    "fig1.set_size_inches(10,5)\n",
    "# line1, line2 = ax_top.plot(x, np.sin(3*x**2), \"r-\", x, np.cos(5*x**2), \"b-\")\n",
    "line1= ax_top.plot(x, np.sin(3*x**2), \"r-\")\n",
    "line2 = ax_top.plot(x, np.cos(5*x**2), \"b-\")\n",
    "line3, = ax_bottom.plot(x, np.sin(3*x), \"r-\")\n",
    "ax_top.grid(True)\n",
    "\n",
    "fig2, ax = plt.subplots(1, 1)\n",
    "ax.plot(x, x**2)\n",
    "plt.show()"
   ]
  },
  {
   "cell_type": "markdown",
   "metadata": {},
   "source": [
    "For consistency, we will continue to use pyplot's state machine in the rest of this tutorial, but we recommend using the object-oriented interface in your programs.\n",
    "\n",
    "# Pylab *vs* Pyplot *vs* Matplotlib\n",
    "\n",
    "There is some confusion around the relationship between pylab, pyplot and matplotlib. It's simple: matplotlib is the full library, it contains everything including pylab and pyplot.\n",
    "\n",
    "Pyplot provides a number of tools to plot graphs, including the state-machine interface to the underlying object-oriented plotting library.\n",
    "\n",
    "Pylab is a convenience module that imports matplotlib.pyplot and NumPy in a single name space. You will find many examples using pylab, but it is no longer recommended (because *explicit* imports are better than *implicit* ones)."
   ]
  },
  {
   "cell_type": "markdown",
   "metadata": {},
   "source": [
    "# Legends\n",
    "The simplest way to add a legend is to set a label on all lines, then just call the `legend` function."
   ]
  },
  {
   "cell_type": "code",
   "execution_count": null,
   "metadata": {},
   "outputs": [],
   "source": [
    "\n",
    "x = np.linspace(-1.4, 1.4, 50)\n",
    "plt.plot(x, x**2, \"r--\", label=\"Square function\")\n",
    "plt.plot(x, x**3, \"g-\", label=\"Cube function\")\n",
    "plt.legend(loc=\"best\")\n",
    "plt.grid(True)\n",
    "plt.show()\n",
    "# 場所の指定も可能"
   ]
  },
  {
   "cell_type": "markdown",
   "metadata": {},
   "source": [
    "# Non linear scales\n",
    "Matplotlib supports non linear scales, such as logarithmic or logit scales."
   ]
  },
  {
   "cell_type": "code",
   "execution_count": null,
   "metadata": {
    "scrolled": true
   },
   "outputs": [],
   "source": [
    "x = np.linspace(0.1, 15, 500)\n",
    "y = x**3/np.exp(2*x)\n",
    "\n",
    "plt.figure(1)\n",
    "plt.plot(x, y)\n",
    "plt.yscale('linear')\n",
    "plt.title('linear')\n",
    "plt.grid(True)\n",
    "\n",
    "plt.figure(2)\n",
    "plt.plot(x, y)\n",
    "plt.yscale('log')\n",
    "plt.title('log')\n",
    "plt.grid(True)\n",
    "\n",
    "plt.figure(3)\n",
    "plt.plot(x, y)\n",
    "plt.yscale('logit')\n",
    "plt.title('logit')\n",
    "plt.grid(True)\n",
    "\n",
    "plt.figure(4)\n",
    "plt.plot(x, y - y.mean())\n",
    "plt.yscale('symlog', linthreshy=0.05)\n",
    "plt.title('symlog')\n",
    "plt.grid(True)\n",
    "\n",
    "plt.show()"
   ]
  },
  {
   "cell_type": "markdown",
   "metadata": {},
   "source": [
    "# Ticks and tickers\n",
    "The axes have little marks called \"ticks\".  To be precise, \"ticks\" are the *locations* of the marks (eg. (-1, 0, 1)), \"tick lines\" are the small lines drawn at those locations, \"tick labels\" are the labels drawn next to the tick lines, and \"tickers\" are objects that are capable of deciding where to place ticks. The default tickers typically do a pretty good job at placing ~5 to 8 ticks at a reasonable distance from one another.\n",
    "\n",
    "But sometimes you need more control (eg. there are too many tick labels on the logit graph above). Fortunately, matplotlib gives you full control over ticks.  You can even activate minor ticks.\n",
    "\n"
   ]
  },
  {
   "cell_type": "code",
   "execution_count": null,
   "metadata": {},
   "outputs": [],
   "source": [
    "x = np.linspace(-2, 2, 100)\n",
    "\n",
    "plt.figure(1, figsize=(15,10))\n",
    "plt.subplot(131)\n",
    "plt.plot(x, x**3)\n",
    "plt.grid(True)\n",
    "plt.title(\"Default ticks\")\n",
    "\n",
    "ax = plt.subplot(132)\n",
    "plt.plot(x, x**3)\n",
    "ax.xaxis.set_ticks(np.arange(-2, 2, 1))\n",
    "plt.grid(True)\n",
    "plt.title(\"Manual ticks on the x-axis\")\n",
    "\n",
    "ax = plt.subplot(133)\n",
    "plt.plot(x, x**3)\n",
    "plt.minorticks_on()\n",
    "ax.tick_params(axis='x', which='minor', bottom='off')\n",
    "ax.xaxis.set_ticks([-2, 0, 1, 2])\n",
    "# ax.yaxis.set_ticks(np.arange(-5, 5, 1))\n",
    "# ax.yaxis.set_ticklabels([\"min\", -4, -3, -2, -1, 0, 1, 2, 3, \"max\"])\n",
    "plt.title(\"Manual ticks and tick labels\\n(plus minor ticks) on the y-axis\")\n",
    "\n",
    "\n",
    "plt.grid(True)\n",
    "\n",
    "plt.show()"
   ]
  },
  {
   "cell_type": "markdown",
   "metadata": {},
   "source": [
    "Another way to display this same data is *via* a contour plot."
   ]
  },
  {
   "cell_type": "code",
   "execution_count": 31,
   "metadata": {},
   "outputs": [
    {
     "data": {
      "image/png": "[encoded data removed]",
      "text/plain": [
       "<matplotlib.figure.Figure at 0x1127ec8d0>"
      ]
     },
     "metadata": {},
     "output_type": "display_data"
    }
   ],
   "source": [
    "plt.contourf(X, Y, Z, cmap=matplotlib.cm.coolwarm)\n",
    "plt.colorbar()\n",
    "plt.show()"
   ]
  },
  {
   "cell_type": "markdown",
   "metadata": {},
   "source": [
    "# Scatter plot"
   ]
  },
  {
   "cell_type": "markdown",
   "metadata": {},
   "source": [
    "To draw a scatter plot, simply provide the x and y coordinates of the points."
   ]
  },
  {
   "cell_type": "code",
   "execution_count": 32,
   "metadata": {},
   "outputs": [
    {
     "data": {
      "image/png": "[encoded data removed]",
      "text/plain": [
       "<matplotlib.figure.Figure at 0x11389e1d0>"
      ]
     },
     "metadata": {},
     "output_type": "display_data"
    }
   ],
   "source": [
    "from numpy.random import rand\n",
    "x, y = rand(2, 100)\n",
    "plt.scatter(x, y)\n",
    "plt.show()"
   ]
  },
  {
   "cell_type": "markdown",
   "metadata": {},
   "source": [
    "And as usual there are a number of other attributes you can set, such as the fill and edge colors and the alpha level."
   ]
  },
  {
   "cell_type": "code",
   "execution_count": null,
   "metadata": {
    "scrolled": true
   },
   "outputs": [],
   "source": [
    "\n",
    "colors = ['hotpink','khaki','yellowgreen']\n",
    "colors = ['red', 'green', 'blue']\n",
    "for color in colors:\n",
    "    n = 100\n",
    "    x, y = rand(2, n)\n",
    "    scale = 500.0 * rand(n) ** 5\n",
    "    # scale :要素100個のリスト\n",
    "    plt.scatter(x, y, s=scale, c=color, alpha=0.3, edgecolors='blue')\n",
    "\n",
    "plt.grid(True)\n",
    "\n",
    "plt.show()\n"
   ]
  },
  {
   "cell_type": "markdown",
   "metadata": {},
   "source": [
    "# Lines\n",
    "You can draw lines simply using the `plot` function, as we have done so far. However, it is often convenient to create a utility function that plots a (seemingly) infinite line across the graph, given a slope and an intercept. You can also use the `hlines` and `vlines` functions that plot horizontal and vertical line segments.\n",
    "For example:"
   ]
  },
  {
   "cell_type": "code",
   "execution_count": null,
   "metadata": {},
   "outputs": [],
   "source": [
    "from numpy.random import randn\n",
    "\n",
    "def plot_line(axis, slope, intercept, **kargs):\n",
    "    xmin, xmax = axis.get_xlim()\n",
    "    plt.plot([xmin, xmax], [xmin*slope+intercept, xmax*slope+intercept], **kargs)\n",
    "\n",
    "x = randn(1000)\n",
    "y = 0.5*x + 5 + randn(1000)*2\n",
    "plt.axis([-2.5, 2.5, -5, 15])\n",
    "plt.scatter(x, y, alpha=0.2)\n",
    "plt.plot(1, 0, \"ro\")\n",
    "plt.vlines(1, -5, 0, color=\"red\")\n",
    "plt.hlines(0, -2.5, 1, color=\"red\")\n",
    "plot_line(axis=plt.gca(), slope=0.5, intercept=5, color=\"magenta\")\n",
    "plt.grid(True)\n",
    "plt.show()"
   ]
  },
  {
   "cell_type": "markdown",
   "metadata": {},
   "source": [
    "# Histograms"
   ]
  },
  {
   "cell_type": "code",
   "execution_count": null,
   "metadata": {},
   "outputs": [],
   "source": [
    "data = [1, 1.1, 1.8, 2, 2.1, 3.2, 3, 3, 3, 3]\n",
    "plt.subplot(211)\n",
    "plt.hist(data, bins = 10, rwidth=0.8)\n",
    "\n",
    "plt.subplot(212)\n",
    "plt.hist(data, bins = [1, 1.5, 2, 2.5, 3], rwidth=0.95)\n",
    "plt.xlabel(\"Value\")\n",
    "plt.ylabel(\"Frequency\")\n",
    "\n",
    "plt.show()"
   ]
  },
  {
   "cell_type": "code",
   "execution_count": null,
   "metadata": {
    "scrolled": true
   },
   "outputs": [],
   "source": [
    "data1 = np.random.randn(400)\n",
    "data2 = np.random.randn(500) + 3\n",
    "data3 = np.random.randn(450) + 6\n",
    "data4a = np.random.randn(200) + 9\n",
    "data4b = np.random.randn(100) + 10\n",
    "\n",
    "plt.hist(data1, bins=5, color='g', alpha=0.75, label='bar hist') # default histtype='bar'\n",
    "plt.hist(data2, color='b', alpha=0.65, histtype='stepfilled', label='stepfilled hist')\n",
    "plt.hist(data3, color='r', histtype='step', label='step hist')\n",
    "plt.hist((data4a, data4b), color=('r','m'), alpha=0.55, histtype='barstacked', label=('barstacked a', 'barstacked b'))\n",
    "\n",
    "plt.xlabel(\"Value\")\n",
    "plt.ylabel(\"Frequency\")\n",
    "plt.legend()\n",
    "plt.grid(True)\n",
    "plt.show()"
   ]
  },
  {
   "cell_type": "code",
   "execution_count": null,
   "metadata": {},
   "outputs": [],
   "source": [
    "img = np.arange(100*100).reshape(100, 100)\n",
    "print(img)\n",
    "plt.imshow(img)\n",
    "plt.show()"
   ]
  },
  {
   "cell_type": "markdown",
   "metadata": {},
   "source": [
    "As we did not provide RGB levels, the `imshow` function automatically maps values to a color gradient. By default, the color gradient goes from blue (for low values) to red (for high values), but you can select another color map.  For example:"
   ]
  },
  {
   "cell_type": "code",
   "execution_count": null,
   "metadata": {
    "scrolled": false
   },
   "outputs": [],
   "source": [
    "plt.imshow(img, cmap=\"hot\")\n",
    "plt.show()"
   ]
  },
  {
   "cell_type": "markdown",
   "metadata": {},
   "source": [
    "You can also generate an RGB image directly:"
   ]
  },
  {
   "cell_type": "code",
   "execution_count": null,
   "metadata": {
    "scrolled": true
   },
   "outputs": [],
   "source": [
    "img = np.empty((20,30,3))\n",
    "img[:, :10] = [0, 0, 0.6]\n",
    "img[:, 10:20] = [1, 1, 1]\n",
    "img[:, 20:] = [0.6, 0, 0]\n",
    "plt.imshow(img)\n",
    "plt.show()"
   ]
  },
  {
   "cell_type": "markdown",
   "metadata": {},
   "source": [
    "Since the `img` array is just quite small (20x30), when the `imshow` function displays it, it grows the image to the figure's size. By default it uses [bilinear interpolation](https://en.wikipedia.org/wiki/Bilinear_interpolation) to fill the added pixels. This is why the edges look blurry.\n",
    "You can select another interpolation algorithm, such as copying the color of the nearest pixel:"
   ]
  },
  {
   "cell_type": "code",
   "execution_count": null,
   "metadata": {
    "scrolled": false
   },
   "outputs": [],
   "source": [
    "plt.imshow(img, interpolation=\"nearest\")\n",
    "plt.show()"
   ]
  },
  {
   "cell_type": "markdown",
   "metadata": {},
   "source": [
    "# serborn plotting\n"
   ]
  },
  {
   "cell_type": "code",
   "execution_count": null,
   "metadata": {},
   "outputs": [],
   "source": [
    "data = sns.load_dataset(\"iris\")\n",
    "sns.pairplot(data,hue=\"species\")"
   ]
  },
  {
   "cell_type": "markdown",
   "metadata": {},
   "source": [
    "# seaborn colorpalettes\n",
    "https://qiita.com/SaitoTsutomu/items/c79c9973a92e1e2c77a7"
   ]
  },
  {
   "cell_type": "code",
   "execution_count": null,
   "metadata": {},
   "outputs": [],
   "source": [
    "from ipywidgets import interact, FloatSlider\n",
    "def show_pal0(palette):\n",
    "    sns.palplot(sns.color_palette(palette, 24))\n",
    "interact(show_pal0, palette='deep muted pastel bright dark colorblind'.split());"
   ]
  },
  {
   "cell_type": "code",
   "execution_count": null,
   "metadata": {},
   "outputs": [],
   "source": [
    "# 明度と彩度の指定\n",
    "def show_pal1(l, s):\n",
    "    sns.palplot(sns.hls_palette(24, l=l, s=s))\n",
    "interact(show_pal1, l=FloatSlider(0.6, max=1), s=FloatSlider(0.65, max=1));"
   ]
  },
  {
   "cell_type": "code",
   "execution_count": null,
   "metadata": {},
   "outputs": [],
   "source": [
    "sns.choose_colorbrewer_palette('qualitative');"
   ]
  },
  {
   "cell_type": "markdown",
   "metadata": {},
   "source": [
    "# Animations\n",
    "Although matplotlib is mostly used to generate images, it is also capable of displaying animations, depending on the Backend you use. In a Jupyter notebook, we need to use the `nbagg` backend to use interactive matplotlib features, including animations. We also need to import `matplotlib.animation`."
   ]
  },
  {
   "cell_type": "code",
   "execution_count": 45,
   "metadata": {
    "collapsed": true
   },
   "outputs": [],
   "source": [
    "%matplotlib nbagg\n",
    "import matplotlib.animation as animation"
   ]
  },
  {
   "cell_type": "markdown",
   "metadata": {},
   "source": [
    "In this example, we start by creating data points, then we create an empty plot, we define the update function that will be called at every iteration of the animation, and finally we add an animation to the plot by creating a `FuncAnimation` instance.\n",
    "\n",
    "The `FuncAnimation` constructor takes a figure, an update function and optional arguments. We specify that we want a 100-frame long animation, with 20ms between each frame. At each iteration, `FuncAnimation` calls our update function and passes it the frame number `num` (from 0 to 99 in our case) followed by the extra arguments that we specified with `fargs`.\n",
    "\n",
    "Our update function simply sets the line data to be the first `num` data points (so the data gets drawn gradually), and just for fun we also add a small random number to each data point so that the line appears to wiggle."
   ]
  },
  {
   "cell_type": "code",
   "execution_count": 46,
   "metadata": {},
   "outputs": [
    {
     "data": {
      "application/javascript": [
       "/* Put everything inside the global mpl namespace */\n",
       "window.mpl = {};\n",
       "\n",
       "mpl.get_websocket_type = function() {\n",
       "    if (typeof(WebSocket) !== 'undefined') {\n",
       "        return WebSocket;\n",
       "    } else if (typeof(MozWebSocket) !== 'undefined') {\n",
       "        return MozWebSocket;\n",
       "    } else {\n",
       "        alert('Your browser does not have WebSocket support.' +\n",
       "              'Please try Chrome, Safari or Firefox ≥ 6. ' +\n",
       "              'Firefox 4 and 5 are also supported but you ' +\n",
       "              'have to enable WebSockets in about:config.');\n",
       "    };\n",
       "}\n",
       "\n",
       "mpl.figure = function(figure_id, websocket, ondownload, parent_element) {\n",
       "    this.id = figure_id;\n",
       "\n",
       "    this.ws = websocket;\n",
       "\n",
       "    this.supports_binary = (this.ws.binaryType != undefined);\n",
       "\n",
       "    if (!this.supports_binary) {\n",
       "        var warnings = document.getElementById(\"mpl-warnings\");\n",
       "        if (warnings) {\n",
       "            warnings.style.display = 'block';\n",
       "            warnings.textContent = (\n",
       "                \"This browser does not support binary websocket messages. \" +\n",
       "                    \"Performance may be slow.\");\n",
       "        }\n",
       "    }\n",
       "\n",
       "    this.imageObj = new Image();\n",
       "\n",
       "    this.context = undefined;\n",
       "    this.message = undefined;\n",
       "    this.canvas = undefined;\n",
       "    this.rubberband_canvas = undefined;\n",
       "    this.rubberband_context = undefined;\n",
       "    this.format_dropdown = undefined;\n",
       "\n",
       "    this.image_mode = 'full';\n",
       "\n",
       "    this.root = $('<div/>');\n",
       "    this._root_extra_style(this.root)\n",
       "    this.root.attr('style', 'display: inline-block');\n",
       "\n",
       "    $(parent_element).append(this.root);\n",
       "\n",
       "    this._init_header(this);\n",
       "    this._init_canvas(this);\n",
       "    this._init_toolbar(this);\n",
       "\n",
       "    var fig = this;\n",
       "\n",
       "    this.waiting = false;\n",
       "\n",
       "    this.ws.onopen =  function () {\n",
       "            fig.send_message(\"supports_binary\", {value: fig.supports_binary});\n",
       "            fig.send_message(\"send_image_mode\", {});\n",
       "            fig.send_message(\"refresh\", {});\n",
       "        }\n",
       "\n",
       "    this.imageObj.onload = function() {\n",
       "            if (fig.image_mode == 'full') {\n",
       "                // Full images could contain transparency (where diff images\n",
       "                // almost always do), so we need to clear the canvas so that\n",
       "                // there is no ghosting.\n",
       "                fig.context.clearRect(0, 0, fig.canvas.width, fig.canvas.height);\n",
       "            }\n",
       "            fig.context.drawImage(fig.imageObj, 0, 0);\n",
       "        };\n",
       "\n",
       "    this.imageObj.onunload = function() {\n",
       "        this.ws.close();\n",
       "    }\n",
       "\n",
       "    this.ws.onmessage = this._make_on_message_function(this);\n",
       "\n",
       "    this.ondownload = ondownload;\n",
       "}\n",
       "\n",
       "mpl.figure.prototype._init_header = function() {\n",
       "    var titlebar = $(\n",
       "        '<div class=\"ui-dialog-titlebar ui-widget-header ui-corner-all ' +\n",
       "        'ui-helper-clearfix\"/>');\n",
       "    var titletext = $(\n",
       "        '<div class=\"ui-dialog-title\" style=\"width: 100%; ' +\n",
       "        'text-align: center; padding: 3px;\"/>');\n",
       "    titlebar.append(titletext)\n",
       "    this.root.append(titlebar);\n",
       "    this.header = titletext[0];\n",
       "}\n",
       "\n",
       "\n",
       "\n",
       "mpl.figure.prototype._canvas_extra_style = function(canvas_div) {\n",
       "\n",
       "}\n",
       "\n",
       "\n",
       "mpl.figure.prototype._root_extra_style = function(canvas_div) {\n",
       "\n",
       "}\n",
       "\n",
       "mpl.figure.prototype._init_canvas = function() {\n",
       "    var fig = this;\n",
       "\n",
       "    var canvas_div = $('<div/>');\n",
       "\n",
       "    canvas_div.attr('style', 'position: relative; clear: both; outline: 0');\n",
       "\n",
       "    function canvas_keyboard_event(event) {\n",
       "        return fig.key_event(event, event['data']);\n",
       "    }\n",
       "\n",
       "    canvas_div.keydown('key_press', canvas_keyboard_event);\n",
       "    canvas_div.keyup('key_release', canvas_keyboard_event);\n",
       "    this.canvas_div = canvas_div\n",
       "    this._canvas_extra_style(canvas_div)\n",
       "    this.root.append(canvas_div);\n",
       "\n",
       "    var canvas = $('<canvas/>');\n",
       "    canvas.addClass('mpl-canvas');\n",
       "    canvas.attr('style', \"left: 0; top: 0; z-index: 0; outline: 0\")\n",
       "\n",
       "    this.canvas = canvas[0];\n",
       "    this.context = canvas[0].getContext(\"2d\");\n",
       "\n",
       "    var rubberband = $('<canvas/>');\n",
       "    rubberband.attr('style', \"position: absolute; left: 0; top: 0; z-index: 1;\")\n",
       "\n",
       "    var pass_mouse_events = true;\n",
       "\n",
       "    canvas_div.resizable({\n",
       "        start: function(event, ui) {\n",
       "            pass_mouse_events = false;\n",
       "        },\n",
       "        resize: function(event, ui) {\n",
       "            fig.request_resize(ui.size.width, ui.size.height);\n",
       "        },\n",
       "        stop: function(event, ui) {\n",
       "            pass_mouse_events = true;\n",
       "            fig.request_resize(ui.size.width, ui.size.height);\n",
       "        },\n",
       "    });\n",
       "\n",
       "    function mouse_event_fn(event) {\n",
       "        if (pass_mouse_events)\n",
       "            return fig.mouse_event(event, event['data']);\n",
       "    }\n",
       "\n",
       "    rubberband.mousedown('button_press', mouse_event_fn);\n",
       "    rubberband.mouseup('button_release', mouse_event_fn);\n",
       "    // Throttle sequential mouse events to 1 every 20ms.\n",
       "    rubberband.mousemove('motion_notify', mouse_event_fn);\n",
       "\n",
       "    rubberband.mouseenter('figure_enter', mouse_event_fn);\n",
       "    rubberband.mouseleave('figure_leave', mouse_event_fn);\n",
       "\n",
       "    canvas_div.on(\"wheel\", function (event) {\n",
       "        event = event.originalEvent;\n",
       "        event['data'] = 'scroll'\n",
       "        if (event.deltaY < 0) {\n",
       "            event.step = 1;\n",
       "        } else {\n",
       "            event.step = -1;\n",
       "        }\n",
       "        mouse_event_fn(event);\n",
       "    });\n",
       "\n",
       "    canvas_div.append(canvas);\n",
       "    canvas_div.append(rubberband);\n",
       "\n",
       "    this.rubberband = rubberband;\n",
       "    this.rubberband_canvas = rubberband[0];\n",
       "    this.rubberband_context = rubberband[0].getContext(\"2d\");\n",
       "    this.rubberband_context.strokeStyle = \"#000000\";\n",
       "\n",
       "    this._resize_canvas = function(width, height) {\n",
       "        // Keep the size of the canvas, canvas container, and rubber band\n",
       "        // canvas in synch.\n",
       "        canvas_div.css('width', width)\n",
       "        canvas_div.css('height', height)\n",
       "\n",
       "        canvas.attr('width', width);\n",
       "        canvas.attr('height', height);\n",
       "\n",
       "        rubberband.attr('width', width);\n",
       "        rubberband.attr('height', height);\n",
       "    }\n",
       "\n",
       "    // Set the figure to an initial 600x600px, this will subsequently be updated\n",
       "    // upon first draw.\n",
       "    this._resize_canvas(600, 600);\n",
       "\n",
       "    // Disable right mouse context menu.\n",
       "    $(this.rubberband_canvas).bind(\"contextmenu\",function(e){\n",
       "        return false;\n",
       "    });\n",
       "\n",
       "    function set_focus () {\n",
       "        canvas.focus();\n",
       "        canvas_div.focus();\n",
       "    }\n",
       "\n",
       "    window.setTimeout(set_focus, 100);\n",
       "}\n",
       "\n",
       "mpl.figure.prototype._init_toolbar = function() {\n",
       "    var fig = this;\n",
       "\n",
       "    var nav_element = $('<div/>')\n",
       "    nav_element.attr('style', 'width: 100%');\n",
       "    this.root.append(nav_element);\n",
       "\n",
       "    // Define a callback function for later on.\n",
       "    function toolbar_event(event) {\n",
       "        return fig.toolbar_button_onclick(event['data']);\n",
       "    }\n",
       "    function toolbar_mouse_event(event) {\n",
       "        return fig.toolbar_button_onmouseover(event['data']);\n",
       "    }\n",
       "\n",
       "    for(var toolbar_ind in mpl.toolbar_items) {\n",
       "        var name = mpl.toolbar_items[toolbar_ind][0];\n",
       "        var tooltip = mpl.toolbar_items[toolbar_ind][1];\n",
       "        var image = mpl.toolbar_items[toolbar_ind][2];\n",
       "        var method_name = mpl.toolbar_items[toolbar_ind][3];\n",
       "\n",
       "        if (!name) {\n",
       "            // put a spacer in here.\n",
       "            continue;\n",
       "        }\n",
       "        var button = $('<button/>');\n",
       "        button.addClass('ui-button ui-widget ui-state-default ui-corner-all ' +\n",
       "                        'ui-button-icon-only');\n",
       "        button.attr('role', 'button');\n",
       "        button.attr('aria-disabled', 'false');\n",
       "        button.click(method_name, toolbar_event);\n",
       "        button.mouseover(tooltip, toolbar_mouse_event);\n",
       "\n",
       "        var icon_img = $('<span/>');\n",
       "        icon_img.addClass('ui-button-icon-primary ui-icon');\n",
       "        icon_img.addClass(image);\n",
       "        icon_img.addClass('ui-corner-all');\n",
       "\n",
       "        var tooltip_span = $('<span/>');\n",
       "        tooltip_span.addClass('ui-button-text');\n",
       "        tooltip_span.html(tooltip);\n",
       "\n",
       "        button.append(icon_img);\n",
       "        button.append(tooltip_span);\n",
       "\n",
       "        nav_element.append(button);\n",
       "    }\n",
       "\n",
       "    var fmt_picker_span = $('<span/>');\n",
       "\n",
       "    var fmt_picker = $('<select/>');\n",
       "    fmt_picker.addClass('mpl-toolbar-option ui-widget ui-widget-content');\n",
       "    fmt_picker_span.append(fmt_picker);\n",
       "    nav_element.append(fmt_picker_span);\n",
       "    this.format_dropdown = fmt_picker[0];\n",
       "\n",
       "    for (var ind in mpl.extensions) {\n",
       "        var fmt = mpl.extensions[ind];\n",
       "        var option = $(\n",
       "            '<option/>', {selected: fmt === mpl.default_extension}).html(fmt);\n",
       "        fmt_picker.append(option)\n",
       "    }\n",
       "\n",
       "    // Add hover states to the ui-buttons\n",
       "    $( \".ui-button\" ).hover(\n",
       "        function() { $(this).addClass(\"ui-state-hover\");},\n",
       "        function() { $(this).removeClass(\"ui-state-hover\");}\n",
       "    );\n",
       "\n",
       "    var status_bar = $('<span class=\"mpl-message\"/>');\n",
       "    nav_element.append(status_bar);\n",
       "    this.message = status_bar[0];\n",
       "}\n",
       "\n",
       "mpl.figure.prototype.request_resize = function(x_pixels, y_pixels) {\n",
       "    // Request matplotlib to resize the figure. Matplotlib will then trigger a resize in the client,\n",
       "    // which will in turn request a refresh of the image.\n",
       "    this.send_message('resize', {'width': x_pixels, 'height': y_pixels});\n",
       "}\n",
       "\n",
       "mpl.figure.prototype.send_message = function(type, properties) {\n",
       "    properties['type'] = type;\n",
       "    properties['figure_id'] = this.id;\n",
       "    this.ws.send(JSON.stringify(properties));\n",
       "}\n",
       "\n",
       "mpl.figure.prototype.send_draw_message = function() {\n",
       "    if (!this.waiting) {\n",
       "        this.waiting = true;\n",
       "        this.ws.send(JSON.stringify({type: \"draw\", figure_id: this.id}));\n",
       "    }\n",
       "}\n",
       "\n",
       "\n",
       "mpl.figure.prototype.handle_save = function(fig, msg) {\n",
       "    var format_dropdown = fig.format_dropdown;\n",
       "    var format = format_dropdown.options[format_dropdown.selectedIndex].value;\n",
       "    fig.ondownload(fig, format);\n",
       "}\n",
       "\n",
       "\n",
       "mpl.figure.prototype.handle_resize = function(fig, msg) {\n",
       "    var size = msg['size'];\n",
       "    if (size[0] != fig.canvas.width || size[1] != fig.canvas.height) {\n",
       "        fig._resize_canvas(size[0], size[1]);\n",
       "        fig.send_message(\"refresh\", {});\n",
       "    };\n",
       "}\n",
       "\n",
       "mpl.figure.prototype.handle_rubberband = function(fig, msg) {\n",
       "    var x0 = msg['x0'];\n",
       "    var y0 = fig.canvas.height - msg['y0'];\n",
       "    var x1 = msg['x1'];\n",
       "    var y1 = fig.canvas.height - msg['y1'];\n",
       "    x0 = Math.floor(x0) + 0.5;\n",
       "    y0 = Math.floor(y0) + 0.5;\n",
       "    x1 = Math.floor(x1) + 0.5;\n",
       "    y1 = Math.floor(y1) + 0.5;\n",
       "    var min_x = Math.min(x0, x1);\n",
       "    var min_y = Math.min(y0, y1);\n",
       "    var width = Math.abs(x1 - x0);\n",
       "    var height = Math.abs(y1 - y0);\n",
       "\n",
       "    fig.rubberband_context.clearRect(\n",
       "        0, 0, fig.canvas.width, fig.canvas.height);\n",
       "\n",
       "    fig.rubberband_context.strokeRect(min_x, min_y, width, height);\n",
       "}\n",
       "\n",
       "mpl.figure.prototype.handle_figure_label = function(fig, msg) {\n",
       "    // Updates the figure title.\n",
       "    fig.header.textContent = msg['label'];\n",
       "}\n",
       "\n",
       "mpl.figure.prototype.handle_cursor = function(fig, msg) {\n",
       "    var cursor = msg['cursor'];\n",
       "    switch(cursor)\n",
       "    {\n",
       "    case 0:\n",
       "        cursor = 'pointer';\n",
       "        break;\n",
       "    case 1:\n",
       "        cursor = 'default';\n",
       "        break;\n",
       "    case 2:\n",
       "        cursor = 'crosshair';\n",
       "        break;\n",
       "    case 3:\n",
       "        cursor = 'move';\n",
       "        break;\n",
       "    }\n",
       "    fig.rubberband_canvas.style.cursor = cursor;\n",
       "}\n",
       "\n",
       "mpl.figure.prototype.handle_message = function(fig, msg) {\n",
       "    fig.message.textContent = msg['message'];\n",
       "}\n",
       "\n",
       "mpl.figure.prototype.handle_draw = function(fig, msg) {\n",
       "    // Request the server to send over a new figure.\n",
       "    fig.send_draw_message();\n",
       "}\n",
       "\n",
       "mpl.figure.prototype.handle_image_mode = function(fig, msg) {\n",
       "    fig.image_mode = msg['mode'];\n",
       "}\n",
       "\n",
       "mpl.figure.prototype.updated_canvas_event = function() {\n",
       "    // Called whenever the canvas gets updated.\n",
       "    this.send_message(\"ack\", {});\n",
       "}\n",
       "\n",
       "// A function to construct a web socket function for onmessage handling.\n",
       "// Called in the figure constructor.\n",
       "mpl.figure.prototype._make_on_message_function = function(fig) {\n",
       "    return function socket_on_message(evt) {\n",
       "        if (evt.data instanceof Blob) {\n",
       "            /* FIXME: We get \"Resource interpreted as Image but\n",
       "             * transferred with MIME type text/plain:\" errors on\n",
       "             * Chrome.  But how to set the MIME type?  It doesn't seem\n",
       "             * to be part of the websocket stream */\n",
       "            evt.data.type = \"image/png\";\n",
       "\n",
       "            /* Free the memory for the previous frames */\n",
       "            if (fig.imageObj.src) {\n",
       "                (window.URL || window.webkitURL).revokeObjectURL(\n",
       "                    fig.imageObj.src);\n",
       "            }\n",
       "\n",
       "            fig.imageObj.src = (window.URL || window.webkitURL).createObjectURL(\n",
       "                evt.data);\n",
       "            fig.updated_canvas_event();\n",
       "            fig.waiting = false;\n",
       "            return;\n",
       "        }\n",
       "        else if (typeof evt.data === 'string' && evt.data.slice(0, 21) == \"data:image/png;base64\") {\n",
       "            fig.imageObj.src = evt.data;\n",
       "            fig.updated_canvas_event();\n",
       "            fig.waiting = false;\n",
       "            return;\n",
       "        }\n",
       "\n",
       "        var msg = JSON.parse(evt.data);\n",
       "        var msg_type = msg['type'];\n",
       "\n",
       "        // Call the  \"handle_{type}\" callback, which takes\n",
       "        // the figure and JSON message as its only arguments.\n",
       "        try {\n",
       "            var callback = fig[\"handle_\" + msg_type];\n",
       "        } catch (e) {\n",
       "            console.log(\"No handler for the '\" + msg_type + \"' message type: \", msg);\n",
       "            return;\n",
       "        }\n",
       "\n",
       "        if (callback) {\n",
       "            try {\n",
       "                // console.log(\"Handling '\" + msg_type + \"' message: \", msg);\n",
       "                callback(fig, msg);\n",
       "            } catch (e) {\n",
       "                console.log(\"Exception inside the 'handler_\" + msg_type + \"' callback:\", e, e.stack, msg);\n",
       "            }\n",
       "        }\n",
       "    };\n",
       "}\n",
       "\n",
       "// from http://stackoverflow.com/questions/1114465/getting-mouse-location-in-canvas\n",
       "mpl.findpos = function(e) {\n",
       "    //this section is from http://www.quirksmode.org/js/events_properties.html\n",
       "    var targ;\n",
       "    if (!e)\n",
       "        e = window.event;\n",
       "    if (e.target)\n",
       "        targ = e.target;\n",
       "    else if (e.srcElement)\n",
       "        targ = e.srcElement;\n",
       "    if (targ.nodeType == 3) // defeat Safari bug\n",
       "        targ = targ.parentNode;\n",
       "\n",
       "    // jQuery normalizes the pageX and pageY\n",
       "    // pageX,Y are the mouse positions relative to the document\n",
       "    // offset() returns the position of the element relative to the document\n",
       "    var x = e.pageX - $(targ).offset().left;\n",
       "    var y = e.pageY - $(targ).offset().top;\n",
       "\n",
       "    return {\"x\": x, \"y\": y};\n",
       "};\n",
       "\n",
       "/*\n",
       " * return a copy of an object with only non-object keys\n",
       " * we need this to avoid circular references\n",
       " * http://stackoverflow.com/a/24161582/3208463\n",
       " */\n",
       "function simpleKeys (original) {\n",
       "  return Object.keys(original).reduce(function (obj, key) {\n",
       "    if (typeof original[key] !== 'object')\n",
       "        obj[key] = original[key]\n",
       "    return obj;\n",
       "  }, {});\n",
       "}\n",
       "\n",
       "mpl.figure.prototype.mouse_event = function(event, name) {\n",
       "    var canvas_pos = mpl.findpos(event)\n",
       "\n",
       "    if (name === 'button_press')\n",
       "    {\n",
       "        this.canvas.focus();\n",
       "        this.canvas_div.focus();\n",
       "    }\n",
       "\n",
       "    var x = canvas_pos.x;\n",
       "    var y = canvas_pos.y;\n",
       "\n",
       "    this.send_message(name, {x: x, y: y, button: event.button,\n",
       "                             step: event.step,\n",
       "                             guiEvent: simpleKeys(event)});\n",
       "\n",
       "    /* This prevents the web browser from automatically changing to\n",
       "     * the text insertion cursor when the button is pressed.  We want\n",
       "     * to control all of the cursor setting manually through the\n",
       "     * 'cursor' event from matplotlib */\n",
       "    event.preventDefault();\n",
       "    return false;\n",
       "}\n",
       "\n",
       "mpl.figure.prototype._key_event_extra = function(event, name) {\n",
       "    // Handle any extra behaviour associated with a key event\n",
       "}\n",
       "\n",
       "mpl.figure.prototype.key_event = function(event, name) {\n",
       "\n",
       "    // Prevent repeat events\n",
       "    if (name == 'key_press')\n",
       "    {\n",
       "        if (event.which === this._key)\n",
       "            return;\n",
       "        else\n",
       "            this._key = event.which;\n",
       "    }\n",
       "    if (name == 'key_release')\n",
       "        this._key = null;\n",
       "\n",
       "    var value = '';\n",
       "    if (event.ctrlKey && event.which != 17)\n",
       "        value += \"ctrl+\";\n",
       "    if (event.altKey && event.which != 18)\n",
       "        value += \"alt+\";\n",
       "    if (event.shiftKey && event.which != 16)\n",
       "        value += \"shift+\";\n",
       "\n",
       "    value += 'k';\n",
       "    value += event.which.toString();\n",
       "\n",
       "    this._key_event_extra(event, name);\n",
       "\n",
       "    this.send_message(name, {key: value,\n",
       "                             guiEvent: simpleKeys(event)});\n",
       "    return false;\n",
       "}\n",
       "\n",
       "mpl.figure.prototype.toolbar_button_onclick = function(name) {\n",
       "    if (name == 'download') {\n",
       "        this.handle_save(this, null);\n",
       "    } else {\n",
       "        this.send_message(\"toolbar_button\", {name: name});\n",
       "    }\n",
       "};\n",
       "\n",
       "mpl.figure.prototype.toolbar_button_onmouseover = function(tooltip) {\n",
       "    this.message.textContent = tooltip;\n",
       "};\n",
       "mpl.toolbar_items = [[\"Home\", \"Reset original view\", \"fa fa-home icon-home\", \"home\"], [\"Back\", \"Back to  previous view\", \"fa fa-arrow-left icon-arrow-left\", \"back\"], [\"Forward\", \"Forward to next view\", \"fa fa-arrow-right icon-arrow-right\", \"forward\"], [\"\", \"\", \"\", \"\"], [\"Pan\", \"Pan axes with left mouse, zoom with right\", \"fa fa-arrows icon-move\", \"pan\"], [\"Zoom\", \"Zoom to rectangle\", \"fa fa-square-o icon-check-empty\", \"zoom\"], [\"\", \"\", \"\", \"\"], [\"Download\", \"Download plot\", \"fa fa-floppy-o icon-save\", \"download\"]];\n",
       "\n",
       "mpl.extensions = [\"eps\", \"jpeg\", \"pdf\", \"png\", \"ps\", \"raw\", \"svg\", \"tif\"];\n",
       "\n",
       "mpl.default_extension = \"png\";var comm_websocket_adapter = function(comm) {\n",
       "    // Create a \"websocket\"-like object which calls the given IPython comm\n",
       "    // object with the appropriate methods. Currently this is a non binary\n",
       "    // socket, so there is still some room for performance tuning.\n",
       "    var ws = {};\n",
       "\n",
       "    ws.close = function() {\n",
       "        comm.close()\n",
       "    };\n",
       "    ws.send = function(m) {\n",
       "        //console.log('sending', m);\n",
       "        comm.send(m);\n",
       "    };\n",
       "    // Register the callback with on_msg.\n",
       "    comm.on_msg(function(msg) {\n",
       "        //console.log('receiving', msg['content']['data'], msg);\n",
       "        // Pass the mpl event to the overriden (by mpl) onmessage function.\n",
       "        ws.onmessage(msg['content']['data'])\n",
       "    });\n",
       "    return ws;\n",
       "}\n",
       "\n",
       "mpl.mpl_figure_comm = function(comm, msg) {\n",
       "    // This is the function which gets called when the mpl process\n",
       "    // starts-up an IPython Comm through the \"matplotlib\" channel.\n",
       "\n",
       "    var id = msg.content.data.id;\n",
       "    // Get hold of the div created by the display call when the Comm\n",
       "    // socket was opened in Python.\n",
       "    var element = $(\"#\" + id);\n",
       "    var ws_proxy = comm_websocket_adapter(comm)\n",
       "\n",
       "    function ondownload(figure, format) {\n",
       "        window.open(figure.imageObj.src);\n",
       "    }\n",
       "\n",
       "    var fig = new mpl.figure(id, ws_proxy,\n",
       "                           ondownload,\n",
       "                           element.get(0));\n",
       "\n",
       "    // Call onopen now - mpl needs it, as it is assuming we've passed it a real\n",
       "    // web socket which is closed, not our websocket->open comm proxy.\n",
       "    ws_proxy.onopen();\n",
       "\n",
       "    fig.parent_element = element.get(0);\n",
       "    fig.cell_info = mpl.find_output_cell(\"<div id='\" + id + \"'></div>\");\n",
       "    if (!fig.cell_info) {\n",
       "        console.error(\"Failed to find cell for figure\", id, fig);\n",
       "        return;\n",
       "    }\n",
       "\n",
       "    var output_index = fig.cell_info[2]\n",
       "    var cell = fig.cell_info[0];\n",
       "\n",
       "};\n",
       "\n",
       "mpl.figure.prototype.handle_close = function(fig, msg) {\n",
       "    fig.root.unbind('remove')\n",
       "\n",
       "    // Update the output cell to use the data from the current canvas.\n",
       "    fig.push_to_output();\n",
       "    var dataURL = fig.canvas.toDataURL();\n",
       "    // Re-enable the keyboard manager in IPython - without this line, in FF,\n",
       "    // the notebook keyboard shortcuts fail.\n",
       "    IPython.keyboard_manager.enable()\n",
       "    $(fig.parent_element).html('<img src=\"' + dataURL + '\">');\n",
       "    fig.close_ws(fig, msg);\n",
       "}\n",
       "\n",
       "mpl.figure.prototype.close_ws = function(fig, msg){\n",
       "    fig.send_message('closing', msg);\n",
       "    // fig.ws.close()\n",
       "}\n",
       "\n",
       "mpl.figure.prototype.push_to_output = function(remove_interactive) {\n",
       "    // Turn the data on the canvas into data in the output cell.\n",
       "    var dataURL = this.canvas.toDataURL();\n",
       "    this.cell_info[1]['text/html'] = '<img src=\"' + dataURL + '\">';\n",
       "}\n",
       "\n",
       "mpl.figure.prototype.updated_canvas_event = function() {\n",
       "    // Tell IPython that the notebook contents must change.\n",
       "    IPython.notebook.set_dirty(true);\n",
       "    this.send_message(\"ack\", {});\n",
       "    var fig = this;\n",
       "    // Wait a second, then push the new image to the DOM so\n",
       "    // that it is saved nicely (might be nice to debounce this).\n",
       "    setTimeout(function () { fig.push_to_output() }, 1000);\n",
       "}\n",
       "\n",
       "mpl.figure.prototype._init_toolbar = function() {\n",
       "    var fig = this;\n",
       "\n",
       "    var nav_element = $('<div/>')\n",
       "    nav_element.attr('style', 'width: 100%');\n",
       "    this.root.append(nav_element);\n",
       "\n",
       "    // Define a callback function for later on.\n",
       "    function toolbar_event(event) {\n",
       "        return fig.toolbar_button_onclick(event['data']);\n",
       "    }\n",
       "    function toolbar_mouse_event(event) {\n",
       "        return fig.toolbar_button_onmouseover(event['data']);\n",
       "    }\n",
       "\n",
       "    for(var toolbar_ind in mpl.toolbar_items){\n",
       "        var name = mpl.toolbar_items[toolbar_ind][0];\n",
       "        var tooltip = mpl.toolbar_items[toolbar_ind][1];\n",
       "        var image = mpl.toolbar_items[toolbar_ind][2];\n",
       "        var method_name = mpl.toolbar_items[toolbar_ind][3];\n",
       "\n",
       "        if (!name) { continue; };\n",
       "\n",
       "        var button = $('<button class=\"btn btn-default\" href=\"#\" title=\"' + name + '\"><i class=\"fa ' + image + ' fa-lg\"></i></button>');\n",
       "        button.click(method_name, toolbar_event);\n",
       "        button.mouseover(tooltip, toolbar_mouse_event);\n",
       "        nav_element.append(button);\n",
       "    }\n",
       "\n",
       "    // Add the status bar.\n",
       "    var status_bar = $('<span class=\"mpl-message\" style=\"text-align:right; float: right;\"/>');\n",
       "    nav_element.append(status_bar);\n",
       "    this.message = status_bar[0];\n",
       "\n",
       "    // Add the close button to the window.\n",
       "    var buttongrp = $('<div class=\"btn-group inline pull-right\"></div>');\n",
       "    var button = $('<button class=\"btn btn-mini btn-primary\" href=\"#\" title=\"Stop Interaction\"><i class=\"fa fa-power-off icon-remove icon-large\"></i></button>');\n",
       "    button.click(function (evt) { fig.handle_close(fig, {}); } );\n",
       "    button.mouseover('Stop Interaction', toolbar_mouse_event);\n",
       "    buttongrp.append(button);\n",
       "    var titlebar = this.root.find($('.ui-dialog-titlebar'));\n",
       "    titlebar.prepend(buttongrp);\n",
       "}\n",
       "\n",
       "mpl.figure.prototype._root_extra_style = function(el){\n",
       "    var fig = this\n",
       "    el.on(\"remove\", function(){\n",
       "\tfig.close_ws(fig, {});\n",
       "    });\n",
       "}\n",
       "\n",
       "mpl.figure.prototype._canvas_extra_style = function(el){\n",
       "    // this is important to make the div 'focusable\n",
       "    el.attr('tabindex', 0)\n",
       "    // reach out to IPython and tell the keyboard manager to turn it's self\n",
       "    // off when our div gets focus\n",
       "\n",
       "    // location in version 3\n",
       "    if (IPython.notebook.keyboard_manager) {\n",
       "        IPython.notebook.keyboard_manager.register_events(el);\n",
       "    }\n",
       "    else {\n",
       "        // location in version 2\n",
       "        IPython.keyboard_manager.register_events(el);\n",
       "    }\n",
       "\n",
       "}\n",
       "\n",
       "mpl.figure.prototype._key_event_extra = function(event, name) {\n",
       "    var manager = IPython.notebook.keyboard_manager;\n",
       "    if (!manager)\n",
       "        manager = IPython.keyboard_manager;\n",
       "\n",
       "    // Check for shift+enter\n",
       "    if (event.shiftKey && event.which == 13) {\n",
       "        this.canvas_div.blur();\n",
       "        event.shiftKey = false;\n",
       "        // Send a \"J\" for go to next cell\n",
       "        event.which = 74;\n",
       "        event.keyCode = 74;\n",
       "        manager.command_mode();\n",
       "        manager.handle_keydown(event);\n",
       "    }\n",
       "}\n",
       "\n",
       "mpl.figure.prototype.handle_save = function(fig, msg) {\n",
       "    fig.ondownload(fig, null);\n",
       "}\n",
       "\n",
       "\n",
       "mpl.find_output_cell = function(html_output) {\n",
       "    // Return the cell and output element which can be found *uniquely* in the notebook.\n",
       "    // Note - this is a bit hacky, but it is done because the \"notebook_saving.Notebook\"\n",
       "    // IPython event is triggered only after the cells have been serialised, which for\n",
       "    // our purposes (turning an active figure into a static one), is too late.\n",
       "    var cells = IPython.notebook.get_cells();\n",
       "    var ncells = cells.length;\n",
       "    for (var i=0; i<ncells; i++) {\n",
       "        var cell = cells[i];\n",
       "        if (cell.cell_type === 'code'){\n",
       "            for (var j=0; j<cell.output_area.outputs.length; j++) {\n",
       "                var data = cell.output_area.outputs[j];\n",
       "                if (data.data) {\n",
       "                    // IPython >= 3 moved mimebundle to data attribute of output\n",
       "                    data = data.data;\n",
       "                }\n",
       "                if (data['text/html'] == html_output) {\n",
       "                    return [cell, data, j];\n",
       "                }\n",
       "            }\n",
       "        }\n",
       "    }\n",
       "}\n",
       "\n",
       "// Register the function which deals with the matplotlib target/channel.\n",
       "// The kernel may be null if the page has been refreshed.\n",
       "if (IPython.notebook.kernel != null) {\n",
       "    IPython.notebook.kernel.comm_manager.register_target('matplotlib', mpl.mpl_figure_comm);\n",
       "}\n"
      ],
      "text/plain": [
       "<IPython.core.display.Javascript object>"
      ]
     },
     "metadata": {},
     "output_type": "display_data"
    },
    {
     "data": {
      "text/html": [
       "<img src=\"data:image/png;base64,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\">"
      ],
      "text/plain": [
       "<IPython.core.display.HTML object>"
      ]
     },
     "metadata": {},
     "output_type": "display_data"
    }
   ],
   "source": [
    "x = np.linspace(-1, 1, 100)\n",
    "y = np.sin(x**2*25)\n",
    "data = np.array([x, y])\n",
    "\n",
    "fig = plt.figure()\n",
    "line, = plt.plot([], [], \"r-\") # start with an empty plot\n",
    "plt.axis([-1.1, 1.1, -1.1, 1.1])\n",
    "plt.plot([-0.5, 0.5], [0, 0], \"b-\", [0, 0], [-0.5, 0.5], \"b-\", 0, 0, \"ro\")\n",
    "plt.grid(True)\n",
    "plt.title(\"Marvelous animation\")\n",
    "\n",
    "# this function will be called at every iteration\n",
    "def update_line(num, data, line):\n",
    "    line.set_data(data[..., :num] + np.random.rand(2, num) / 25)  # we only plot the first `num` data points.\n",
    "    return line,\n",
    "\n",
    "line_ani = animation.FuncAnimation(fig, update_line, frames=100, fargs=(data, line), interval=67)\n",
    "plt.show()"
   ]
  },
  {
   "cell_type": "markdown",
   "metadata": {},
   "source": [
    "# Saving animations to video files\n",
    "Matplotlib relies on 3rd-party libraries to write videos such as [FFMPEG](https://www.ffmpeg.org/) or `mencoder`. In this example we will be using FFMPEG so be sure to install it first."
   ]
  },
  {
   "cell_type": "code",
   "execution_count": 47,
   "metadata": {},
   "outputs": [],
   "source": [
    "Writer = animation.writers['ffmpeg']\n",
    "writer = Writer(fps=15, metadata=dict(artist='Me'), bitrate=1800)\n",
    "line_ani.save('my_wiggly_animation.mp4', writer=writer)"
   ]
  },
  {
   "cell_type": "markdown",
   "metadata": {},
   "source": [
    "# What next?\n",
    "Now you know all the basics of matplotlib, but there are many more options available. The best way to learn more, is to visit the [gallery](http://matplotlib.org/gallery.html), look at the images, choose a plot that you are interested in, then just copy the code in a Jupyter notebook and play around with it."
   ]
  }
 ],
 "metadata": {
  "kernelspec": {
   "display_name": "Python 3",
   "language": "python",
   "name": "python3"
  },
  "language_info": {
   "codemirror_mode": {
    "name": "ipython",
    "version": 3
   },
   "file_extension": ".py",
   "mimetype": "text/x-python",
   "name": "python",
   "nbconvert_exporter": "python",
   "pygments_lexer": "ipython3",
   "version": "3.6.6"
  },
  "toc": {
   "toc_cell": true,
   "toc_number_sections": true,
   "toc_section_display": "block",
   "toc_threshold": 6,
   "toc_window_display": false
  }
 },
 "nbformat": 4,
 "nbformat_minor": 1
}
